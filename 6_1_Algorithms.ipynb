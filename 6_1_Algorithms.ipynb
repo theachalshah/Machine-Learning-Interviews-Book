{
  "nbformat": 4,
  "nbformat_minor": 0,
  "metadata": {
    "colab": {
      "provenance": []
    },
    "kernelspec": {
      "name": "python3",
      "display_name": "Python 3"
    },
    "language_info": {
      "name": "python"
    }
  },
  "cells": [
    {
      "cell_type": "markdown",
      "source": [
        "**1. Write a Python function to recursively read a JSON file.**"
      ],
      "metadata": {
        "id": "Ed48zl1lDgaW"
      }
    },
    {
      "cell_type": "code",
      "execution_count": 1,
      "metadata": {
        "id": "iJD2EtWGDGKA"
      },
      "outputs": [],
      "source": [
        "import json\n",
        "\n",
        "def read_json_file(filepath):\n",
        "    with open(filepath, \"r\") as f:\n",
        "        data = json.load(f)\n",
        "        for key, value in data.items():\n",
        "            if isinstance(value, dict):\n",
        "                read_json_file(value)\n",
        "            else:\n",
        "                print(f\"{key}: {value}\")\n"
      ]
    },
    {
      "cell_type": "markdown",
      "source": [
        "**2.1 Implement an  O(NlogN) sorting algorithm - Quick Sort**"
      ],
      "metadata": {
        "id": "KcRg-_a1Drhz"
      }
    },
    {
      "cell_type": "code",
      "source": [
        "def quick_sort(arr):\n",
        "    if len(arr) <= 1:\n",
        "        return arr\n",
        "    else:\n",
        "        pivot = arr[0]\n",
        "        less = [x for x in arr[1:] if x <= pivot]\n",
        "        greater = [x for x in arr[1:] if x > pivot]\n",
        "        return quick_sort(less) + [pivot] + quick_sort(greater)\n",
        "\n",
        "\n",
        "arr = [5, 2, 9, 1, 5, 6, 3]\n",
        "sorted_arr = quick_sort(arr)\n",
        "print(sorted_arr)\n"
      ],
      "metadata": {
        "colab": {
          "base_uri": "https://localhost:8080/"
        },
        "id": "JC9clX--DnAr",
        "outputId": "fe07f92e-7811-4f20-dc33-c209685ea57e"
      },
      "execution_count": 2,
      "outputs": [
        {
          "output_type": "stream",
          "name": "stdout",
          "text": [
            "[1, 2, 3, 5, 5, 6, 9]\n"
          ]
        }
      ]
    },
    {
      "cell_type": "markdown",
      "source": [
        "This implementation follows the standard quick sort algorithm. It first checks if the length of the array is 1 or less, in which case the array is already sorted and can be returned. Otherwise, it selects the first element of the array as the pivot, and creates two lists: one containing all elements less than or equal to the pivot, and one containing all elements greater than the pivot. It then recursively calls the quick_sort function on the two sub-lists, and concatenates the results with the pivot element in between.\n",
        "\n",
        "The time complexity of quick sort is O(NlogN) on average, and O(N^2) in the worst case. The worst case occurs when the pivot is repeatedly selected as the largest or smallest element in the array, resulting in unbalanced partitions. However, quick sort is still a popular sorting algorithm due to its average case performance and space efficiency.\n",
        "\n"
      ],
      "metadata": {
        "id": "PUSrFq7XEnxp"
      }
    },
    {
      "cell_type": "markdown",
      "source": [
        "**2.2 Implement an O(NlogN) sorting algorithm - Merge Sort**\n"
      ],
      "metadata": {
        "id": "dY6AH792PyfR"
      }
    },
    {
      "cell_type": "code",
      "source": [
        "def merge_sort(arr):\n",
        "    if len(arr) <= 1:\n",
        "        return arr\n",
        "\n",
        "    # Divide the array into two halves\n",
        "    mid = len(arr) // 2\n",
        "    left = arr[:mid]\n",
        "    right = arr[mid:]\n",
        "\n",
        "    # Recursively sort the two halves\n",
        "    left = merge_sort(left)\n",
        "    right = merge_sort(right)\n",
        "\n",
        "    # Merge the sorted halves\n",
        "    merged = []\n",
        "    i = j = 0\n",
        "    while i < len(left) and j < len(right):\n",
        "        if left[i] < right[j]:\n",
        "            merged.append(left[i])\n",
        "            i += 1\n",
        "        else:\n",
        "            merged.append(right[j])\n",
        "            j += 1\n",
        "    merged += left[i:]\n",
        "    merged += right[j:]\n",
        "\n",
        "    return merged\n",
        "\n",
        "arr = [5, 2, 9, 1, 5, 6, 3]\n",
        "sorted_arr = merge_sort(arr)\n",
        "print(sorted_arr)\n",
        "\n"
      ],
      "metadata": {
        "id": "CVYrBO54EkWJ",
        "colab": {
          "base_uri": "https://localhost:8080/"
        },
        "outputId": "bb759128-d929-4cce-89b7-0eff426c1183"
      },
      "execution_count": 3,
      "outputs": [
        {
          "output_type": "stream",
          "name": "stdout",
          "text": [
            "[1, 2, 3, 5, 5, 6, 9]\n"
          ]
        }
      ]
    },
    {
      "cell_type": "markdown",
      "source": [
        "The merge_sort function takes an input list arr as a parameter and recursively sorts it in ascending order using the Merge Sort algorithm. The steps in the algorithm are as follows:\n",
        "\n",
        "If the length of the input list arr is less than or equal to 1, then it is already sorted, so we simply return it as is.\n",
        "\n",
        "Divide the input list arr into two halves - left and right.\n",
        "\n",
        "Recursively call the merge_sort function on both halves left and right.\n",
        "\n",
        "Merge the sorted halves left and right to create a sorted merged list merged. \n",
        "\n",
        "This is done by comparing the elements at each index of left and right and appending the smaller element to merged. Continue this process until all elements from both left and right are merged into merged.\n",
        "\n",
        "Return the sorted merged list merged as the final result.\n",
        "\n",
        "Merge Sort has a time complexity of O(NlogN), where N is the number of elements in the input list arr. It is a reliable and efficient sorting algorithm that guarantees a stable sort, meaning that the relative order of equal elements is preserved."
      ],
      "metadata": {
        "id": "rqjzibCKRYD5"
      }
    },
    {
      "cell_type": "markdown",
      "source": [
        "**3. Find the longest increasing subsequence in a string.**"
      ],
      "metadata": {
        "id": "VTXoHD0ZSPxG"
      }
    },
    {
      "cell_type": "code",
      "source": [
        "def longest_increasing_subsequence(s):\n",
        "    n = len(s)\n",
        "    # Initialize an array to store the lengths of longest increasing subsequences ending at each index\n",
        "    dp = [1] * n\n",
        "\n",
        "    for i in range(1, n):\n",
        "        for j in range(i):\n",
        "            if s[i] > s[j]:\n",
        "                dp[i] = max(dp[i], dp[j] + 1)\n",
        "\n",
        "    # Find the length of the longest increasing subsequence\n",
        "    max_len = max(dp)\n",
        "\n",
        "    # Find the longest increasing subsequence\n",
        "    subsequence = []\n",
        "    for i in range(n - 1, -1, -1):\n",
        "        if dp[i] == max_len:\n",
        "            subsequence.append(s[i])\n",
        "            max_len -= 1\n",
        "    subsequence.reverse()\n",
        "\n",
        "    return subsequence\n",
        "\n",
        "s = [3,4,-1,0,6,2,3]\n",
        "result = longest_increasing_subsequence(s)\n",
        "print(result)\n"
      ],
      "metadata": {
        "id": "_yaBKdqtRE4R",
        "colab": {
          "base_uri": "https://localhost:8080/"
        },
        "outputId": "a20b8c2f-dec2-40d7-b125-556787e8667e"
      },
      "execution_count": 4,
      "outputs": [
        {
          "output_type": "stream",
          "name": "stdout",
          "text": [
            "[-1, 0, 2, 3]\n"
          ]
        }
      ]
    },
    {
      "cell_type": "markdown",
      "source": [
        "The longest increasing subsequence problem is a classic dynamic programming problem that involves finding the length of the longest subsequence in an array or string such that the elements are in strictly increasing order.\n",
        "\n",
        "The longest_increasing_subsequence function takes an input string s as a parameter and returns the longest increasing subsequence as a list of characters. The steps in the algorithm are as follows:\n",
        "\n",
        "Initialize an array dp of the same length as the input string s to store the lengths of longest increasing subsequences ending at each index. Set all elements in dp to 1 initially, as the minimum length of an increasing subsequence is 1 (the element itself).\n",
        "\n",
        "Loop through the input string s from left to right. For each element at index i, loop through all elements before it (from index 0 to i-1) and check if the element at index i is greater than the element at index j (where j ranges from 0 to i-1). If so, update the value of dp[i] by taking the maximum between its current value and dp[j] + 1. This is because the length of the longest increasing subsequence ending at index i can be extended by appending the element at index i to the longest increasing subsequence ending at index j.\n",
        "\n",
        "After completing the loop, the maximum value in the dp array represents the length of the longest increasing subsequence in the input string s.\n",
        "\n",
        "Create an empty list subsequence to store the actual longest increasing subsequence. Loop through the dp array in reverse order, starting from the last index. Find the elements in the input string s that correspond to the indices where dp is equal to the maximum length, and append them to the subsequence list. Decrease the maximum length by 1 for each element added to subsequence.\n",
        "\n",
        "Reverse the subsequence list to obtain the correct order of elements in the longest increasing subsequence.\n",
        "\n",
        "Return the subsequence list as the final result.\n",
        "\n",
        "Note that this implementation returns only one of the possible longest increasing subsequences. If there are multiple longest increasing subsequences in the input string, this implementation will return one of them."
      ],
      "metadata": {
        "id": "hZnNEM0-SfZq"
      }
    },
    {
      "cell_type": "markdown",
      "source": [
        "**4. Find the longest common subsequence between two strings.**"
      ],
      "metadata": {
        "id": "WQxAXMs7786E"
      }
    },
    {
      "cell_type": "code",
      "source": [
        "def longest_common_subsequence(s1, s2):\n",
        "    m = len(s1)  # length of first input string\n",
        "    n = len(s2)  # length of second input string\n",
        "    \n",
        "    # Initialize a 2D dynamic programming array with 0s\n",
        "    dp = [[0] * (n + 1) for _ in range(m + 1)]\n",
        "    \n",
        "    # Populate the dp array\n",
        "    for i in range(1, m + 1):\n",
        "        for j in range(1, n + 1):\n",
        "            if s1[i - 1] == s2[j - 1]:\n",
        "                dp[i][j] = dp[i - 1][j - 1] + 1  # characters match, increment LCS length\n",
        "            else:\n",
        "                dp[i][j] = max(dp[i - 1][j], dp[i][j - 1])  # characters don't match, take max of previous LCS lengths\n",
        "    \n",
        "    # Backtrack to find the LCS\n",
        "    lcs = ''\n",
        "    i, j = m, n  # start from bottom-right corner of dp array\n",
        "    while i > 0 and j > 0:\n",
        "        if s1[i - 1] == s2[j - 1]:\n",
        "            lcs = s1[i - 1] + lcs  # add matching character to LCS\n",
        "            i -= 1\n",
        "            j -= 1\n",
        "        elif dp[i - 1][j] > dp[i][j - 1]:\n",
        "            i -= 1\n",
        "        else:\n",
        "            j -= 1\n",
        "    \n",
        "    return lcs\n",
        "\n",
        "# Example usage\n",
        "s1 = \"ABCD\"\n",
        "s2 = \"ACDF\"\n",
        "lcs = longest_common_subsequence(s1, s2)\n",
        "print(\"Longest Common Subsequence between\", s1, \"and\", s2, \"is:\", lcs)"
      ],
      "metadata": {
        "id": "1oCIZ5U2SWOs",
        "colab": {
          "base_uri": "https://localhost:8080/"
        },
        "outputId": "7e3fc5ba-f3f1-45c0-bdc8-137c36f55105"
      },
      "execution_count": 5,
      "outputs": [
        {
          "output_type": "stream",
          "name": "stdout",
          "text": [
            "Longest Common Subsequence between ABCD and ACDF is: ACD\n"
          ]
        }
      ]
    },
    {
      "cell_type": "markdown",
      "source": [
        "The problem of finding the longest common subsequence (LCS) between two strings is a classic dynamic programming problem. The LCS refers to the longest subsequence that is common to both strings, not necessarily contiguous.\n",
        "\n",
        "The dynamic programming approach involves constructing a two-dimensional table, typically referred to as a \"memoization\" or \"DP\" table, to keep track of the lengths of LCS for various prefixes of the input strings. The rows of the table represent the characters of the first string, and the columns represent the characters of the second string. The value at the cell (i, j) in the table represents the length of the LCS of the first i characters of the first string and the first j characters of the second string.\n",
        "\n",
        "The algorithm iterates over the characters of the input strings and fills in the DP table using the following rules:\n",
        "\n",
        "If the characters at the current positions in both strings are the same, then the length of the LCS at that cell is one more than the length of the LCS for the previous characters in both strings. This is because the current character is part of the LCS.\n",
        "\n",
        "If the characters at the current positions in both strings are different, then the length of the LCS at that cell is the maximum of the lengths of the LCS for the previous character in the first string and the previous character in the second string. This is because the current character cannot be part of the LCS, so we need to take the maximum of the lengths of LCS without considering the current character.\n",
        "\n",
        "Once the DP table is filled, the LCS can be reconstructed by backtracking from the bottom-right corner of the table to the top-left corner, following the rules above. The characters that are part of the LCS are appended to the result string in reverse order.\n",
        "\n",
        "Here's a step-by-step breakdown of the longest_common_subsequence function's implementation:\n",
        "\n",
        "The function takes two input strings, s1 and s2, as arguments.\n",
        "\n",
        "It initializes a DP table, dp, with dimensions (m+1) x (n+1), where m and n are the lengths of s1 and s2, respectively. It also initializes an empty string, lcs, to store the result.\n",
        "\n",
        "It iterates over the characters of s1 and s2 using nested loops, starting from the first character of each string.\n",
        "\n",
        "For each pair of characters at the current positions in s1 and s2, it compares them:\n",
        "\n",
        "If they are the same, it adds 1 to the length of LCS for the previous characters in both strings, and stores it in the corresponding cell of the DP table.\n",
        "\n",
        "If they are different, it takes the maximum of the lengths of LCS for the previous character in s1 and the previous character in s2, and stores it in the corresponding cell of the DP table.\n",
        "\n",
        "Once the DP table is filled, it backtracks from the bottom-right corner to the top-left corner, following the rules described earlier, and constructs the LCS by appending the characters to lcs in reverse order.\n",
        "\n",
        "Finally, it returns the LCS string.\n",
        "\n",
        "Note that this implementation has a time complexity of O(mn), where m and n are the lengths of the input strings s1 and s2, respectively, and a space complexity of O(mn) as well, due to the DP table."
      ],
      "metadata": {
        "id": "Q5qeUFkI8JFq"
      }
    },
    {
      "cell_type": "markdown",
      "source": [
        "**5. Traverse a tree in pre-order, in-order, and post-order.**\n",
        "\n",
        "To traverse a tree in pre-order, in-order, and post-order, you need to visit each node in a specific order. Here are the definitions of each traversal and an example tree for demonstration purposes:\n",
        "\n",
        "          A\n",
        "        /   \\\n",
        "       B     C\n",
        "      / \\   / \\\n",
        "     D   E F   G\n",
        "\n",
        "Pre-order traversal: The order of visiting nodes in pre-order traversal is as follows:\n",
        "\n",
        "Visit the current node\n",
        "\n",
        "Traverse the left subtree in pre-order\n",
        "\n",
        "Traverse the right subtree in pre-order\n",
        "\n",
        "The pre-order traversal of the above tree would be: A -> B -> D -> E -> C -> F -> G\n",
        "\n",
        "In-order traversal: The order of visiting nodes in in-order traversal is as follows:\n",
        "\n",
        "Traverse the left subtree in in-order\n",
        "\n",
        "Visit the current node\n",
        "\n",
        "Traverse the right subtree in in-order\n",
        "\n",
        "The in-order traversal of the above tree would be: D -> B -> E -> A -> F -> C -> G\n",
        "\n",
        "Post-order traversal: The order of visiting nodes in post-order traversal is as follows:\n",
        "\n",
        "Traverse the left subtree in post-order\n",
        "\n",
        "Traverse the right subtree in post-order\n",
        "\n",
        "Visit the current node\n",
        "\n",
        "The post-order traversal of the above tree would be: D -> E -> B -> F -> G -> C -> A\n",
        "\n",
        "\n",
        "\n",
        "\n"
      ],
      "metadata": {
        "id": "1IEyBiLDRvMY"
      }
    },
    {
      "cell_type": "code",
      "source": [
        "class Node:\n",
        "    def __init__(self, value):\n",
        "        self.left = None\n",
        "        self.right = None\n",
        "        self.value = value\n",
        "\n",
        "def pre_order_traversal(node):\n",
        "    if node:\n",
        "        print(node.value)\n",
        "        pre_order_traversal(node.left)\n",
        "        pre_order_traversal(node.right)\n",
        "\n",
        "def in_order_traversal(node):\n",
        "    if node:\n",
        "        in_order_traversal(node.left)\n",
        "        print(node.value)\n",
        "        in_order_traversal(node.right)\n",
        "\n",
        "def post_order_traversal(node):\n",
        "    if node:\n",
        "        post_order_traversal(node.left)\n",
        "        post_order_traversal(node.right)\n",
        "        print(node.value)\n",
        "\n",
        "# create a sample tree\n",
        "root = Node('A')\n",
        "root.left = Node('B')\n",
        "root.right = Node('C')\n",
        "root.left.left = Node('D')\n",
        "root.left.right = Node('E')\n",
        "root.right.left = Node('F')\n",
        "root.right.right = Node('G')\n",
        "\n",
        "# pre-order traversal\n",
        "print(\"Pre-order Traversal:\")\n",
        "pre_order_traversal(root)\n",
        "\n",
        "# in-order traversal\n",
        "print(\"\\nIn-order Traversal:\")\n",
        "in_order_traversal(root)\n",
        "\n",
        "# post-order traversal\n",
        "print(\"\\nPost-order Traversal:\")\n",
        "post_order_traversal(root)\n"
      ],
      "metadata": {
        "id": "SLexvfMm8Iqf",
        "colab": {
          "base_uri": "https://localhost:8080/"
        },
        "outputId": "097fe499-b7af-4fed-8530-3bd785896d74"
      },
      "execution_count": 6,
      "outputs": [
        {
          "output_type": "stream",
          "name": "stdout",
          "text": [
            "Pre-order Traversal:\n",
            "A\n",
            "B\n",
            "D\n",
            "E\n",
            "C\n",
            "F\n",
            "G\n",
            "\n",
            "In-order Traversal:\n",
            "D\n",
            "B\n",
            "E\n",
            "A\n",
            "F\n",
            "C\n",
            "G\n",
            "\n",
            "Post-order Traversal:\n",
            "D\n",
            "E\n",
            "B\n",
            "F\n",
            "G\n",
            "C\n",
            "A\n"
          ]
        }
      ]
    },
    {
      "cell_type": "markdown",
      "source": [
        "**6. Given an array of integers and an integer k, find the total number of continuous subarrays whose sum equals k. The solution should have O(N) runtime.**\n",
        "\n",
        "This function works as follows:\n",
        "\n",
        "Initialize the cumulative_sum variable to store the running sum of the array elements, the sum_frequencies dictionary to store the frequency of each sum, and the count variable to store the number of subarrays that meet the condition.\n",
        "\n",
        "Iterate through the elements in the nums array.\n",
        "\n",
        "Update the cumulative_sum by adding the current number to it.\n",
        "\n",
        "Check if the difference between the cumulative_sum and the target sum k is in the sum_frequencies dictionary. If it is, then increment the count by the frequency of that difference.\n",
        "\n",
        "If the cumulative_sum is not in the sum_frequencies dictionary, add it with a frequency of 0.\n",
        "\n",
        "Increment the frequency of the cumulative_sum in the sum_frequencies dictionary.\n",
        "Once the iteration is complete, return the count variable, which represents the total number of continuous subarrays whose sum equals k."
      ],
      "metadata": {
        "id": "tCbgUhgQTLuT"
      }
    },
    {
      "cell_type": "code",
      "source": [
        "def subarray_sum(nums, k):\n",
        "    cumulative_sum = 0\n",
        "    sum_frequencies = {0: 1}\n",
        "    count = 0\n",
        "\n",
        "    for num in nums:\n",
        "        cumulative_sum += num\n",
        "\n",
        "        if cumulative_sum - k in sum_frequencies:\n",
        "            count += sum_frequencies[cumulative_sum - k]\n",
        "\n",
        "        if cumulative_sum not in sum_frequencies:\n",
        "            sum_frequencies[cumulative_sum] = 0\n",
        "\n",
        "        sum_frequencies[cumulative_sum] += 1\n",
        "\n",
        "    return count\n",
        "\n",
        "\n",
        "nums = [1, 1, 1]\n",
        "k = 2\n",
        "print(subarray_sum(nums, k))  "
      ],
      "metadata": {
        "colab": {
          "base_uri": "https://localhost:8080/"
        },
        "id": "RJzbISuNSVZw",
        "outputId": "59a602aa-eaae-4252-ba2e-bf7e75d5e998"
      },
      "execution_count": 7,
      "outputs": [
        {
          "output_type": "stream",
          "name": "stdout",
          "text": [
            "2\n"
          ]
        }
      ]
    },
    {
      "cell_type": "markdown",
      "source": [
        "**7. There are two sorted arrays  nums1 and  nums2 with  m and  n\n",
        "elements respectively. Find the median of the two sorted arrays. The solution should have  O(log(m+n)) runtime.**\n",
        "\n",
        "To achieve a O(log(min(m, n))) runtime complexity for this problem, you can apply a binary search on the smaller array. The key to this approach is to partition both arrays such that the number of elements in the left half is equal to the number of elements in the right half.\n",
        "\n",
        "This function works as follows:\n",
        "\n",
        "Swap the arrays if nums1 is larger than nums2, ensuring that nums1 is always the smaller array. Set m and n to be the lengths of the respective arrays.\n",
        "\n",
        "Initialize the binary search boundaries imin and imax, and calculate half_len (the partition point for both arrays).\n",
        "\n",
        "Perform a binary search on the smaller array (nums1) to find the correct partition point. Update the search boundaries based on the comparison of elements around the partition points.\n",
        "\n",
        "When the correct partition point is found, calculate the maximum value on the left side and the minimum value on the right side.\n",
        "\n",
        "If the combined length of both arrays is odd, the median is the maximum value on the left side. If the combined length is even, the median is the average of the maximum value on the left side and the minimum value on the right side."
      ],
      "metadata": {
        "id": "0djSl0QUU3Wi"
      }
    },
    {
      "cell_type": "code",
      "source": [
        "def find_median_sorted_arrays(nums1, nums2):\n",
        "    if len(nums1) > len(nums2):\n",
        "        nums1, nums2 = nums2, nums1\n",
        "\n",
        "    m, n = len(nums1), len(nums2)\n",
        "    imin, imax, half_len = 0, m, (m + n + 1) // 2\n",
        "\n",
        "    while imin <= imax:\n",
        "        i = (imin + imax) // 2\n",
        "        j = half_len - i\n",
        "\n",
        "        if i < m and nums2[j-1] > nums1[i]:\n",
        "            imin = i + 1\n",
        "        elif i > 0 and nums1[i-1] > nums2[j]:\n",
        "            imax = i - 1\n",
        "        else:\n",
        "            if i == 0: max_of_left = nums2[j-1]\n",
        "            elif j == 0: max_of_left = nums1[i-1]\n",
        "            else: max_of_left = max(nums1[i-1], nums2[j-1])\n",
        "\n",
        "            if (m + n) % 2 == 1:\n",
        "                return max_of_left\n",
        "\n",
        "            if i == m: min_of_right = nums2[j]\n",
        "            elif j == n: min_of_right = nums1[i]\n",
        "            else: min_of_right = min(nums1[i], nums2[j])\n",
        "\n",
        "            return (max_of_left + min_of_right) / 2.0\n",
        "\n",
        "\n",
        "nums1 = [1, 3]\n",
        "nums2 = [2]\n",
        "print(find_median_sorted_arrays(nums1, nums2))  \n",
        "\n",
        "nums1 = [1, 2]\n",
        "nums2 = [3, 4]\n",
        "print(find_median_sorted_arrays(nums1, nums2))  \n"
      ],
      "metadata": {
        "colab": {
          "base_uri": "https://localhost:8080/"
        },
        "id": "zSVrUlJzT1uW",
        "outputId": "20ea7112-0d98-4eab-ce16-60017976a943"
      },
      "execution_count": 8,
      "outputs": [
        {
          "output_type": "stream",
          "name": "stdout",
          "text": [
            "2\n",
            "2.5\n"
          ]
        }
      ]
    },
    {
      "cell_type": "markdown",
      "source": [
        "**9. Write a program to solve a Sudoku puzzle by filling the empty cells. The board is of the size 9×9. It contains only 1-9 numbers. Empty cells are denoted with *. Each board has one unique solution.**\n",
        "\n",
        "To solve a Sudoku puzzle, you can use the backtracking algorithm, which involves trying out different numbers in each empty cell and undoing the changes if they lead to an invalid board.\n",
        "\n",
        "Here's how the program works:\n",
        "\n",
        "Define an is_valid function that checks whether a given number can be placed in a specific row and column. It checks if the number is not already in the same row, column, or 3x3 grid.\n",
        "\n",
        "Define a solve function that uses the backtracking algorithm. It iterates through each cell of the board. If the cell is empty (denoted by '*'), it tries to place a number from 1 to 9 in the cell and checks if it's valid using the is_valid function.\n",
        "\n",
        "If the number is valid, the algorithm proceeds to the next cell. If it reaches an invalid state, it backtracks by undoing the changes and trying a different number in the previous cell.\n",
        "\n",
        "The solve function returns True when the board is completely filled and valid, and False otherwise.\n",
        "\n",
        "Call the solve function and return the solved board."
      ],
      "metadata": {
        "id": "v5X_a2BPWXGe"
      }
    },
    {
      "cell_type": "code",
      "source": [
        "def solve_sudoku(board):\n",
        "    def is_valid(row, col, num):\n",
        "        # Check if the number is not in the same row or column\n",
        "        for i in range(9):\n",
        "            if board[row][i] == num or board[i][col] == num:\n",
        "                return False\n",
        "\n",
        "        # Check if the number is not in the same 3x3 grid\n",
        "        start_row, start_col = row - row % 3, col - col % 3\n",
        "        for i in range(3):\n",
        "            for j in range(3):\n",
        "                if board[i + start_row][j + start_col] == num:\n",
        "                    return False\n",
        "\n",
        "        return True\n",
        "\n",
        "    def solve():\n",
        "        for row in range(9):\n",
        "            for col in range(9):\n",
        "                if board[row][col] == \"*\":\n",
        "                    for num in \"123456789\":\n",
        "                        if is_valid(row, col, num):\n",
        "                            board[row][col] = num\n",
        "                            if solve():\n",
        "                                return True\n",
        "                            board[row][col] = \"*\"\n",
        "                    return False\n",
        "        return True\n",
        "\n",
        "    solve()\n",
        "    return board\n",
        "\n",
        "\n",
        "sudoku_board = [\n",
        "    [\"5\", \"3\", \"*\", \"*\", \"7\", \"*\", \"*\", \"*\", \"*\"],\n",
        "    [\"6\", \"*\", \"*\", \"1\", \"9\", \"5\", \"*\", \"*\", \"*\"],\n",
        "    [\"*\", \"9\", \"8\", \"*\", \"*\", \"*\", \"*\", \"6\", \"*\"],\n",
        "    [\"8\", \"*\", \"*\", \"*\", \"6\", \"*\", \"*\", \"*\", \"3\"],\n",
        "    [\"4\", \"*\", \"*\", \"8\", \"*\", \"3\", \"*\", \"*\", \"1\"],\n",
        "    [\"7\", \"*\", \"*\", \"*\", \"2\", \"*\", \"*\", \"*\", \"6\"],\n",
        "    [\"*\", \"6\", \"*\", \"*\", \"*\", \"*\", \"2\", \"8\", \"*\"],\n",
        "    [\"*\", \"*\", \"*\", \"4\", \"1\", \"9\", \"*\", \"*\", \"5\"],\n",
        "    [\"*\", \"*\", \"*\", \"*\", \"8\", \"*\", \"*\", \"7\", \"9\"]\n",
        "]\n",
        "\n",
        "solved_board = solve_sudoku(sudoku_board)\n",
        "\n",
        "for row in solved_board:\n",
        "    print(row)\n"
      ],
      "metadata": {
        "colab": {
          "base_uri": "https://localhost:8080/"
        },
        "id": "Zh1MMKjYVqzM",
        "outputId": "d1afb31d-878d-442f-f846-14f73f64d1f1"
      },
      "execution_count": 9,
      "outputs": [
        {
          "output_type": "stream",
          "name": "stdout",
          "text": [
            "['5', '3', '4', '6', '7', '8', '9', '1', '2']\n",
            "['6', '7', '2', '1', '9', '5', '3', '4', '8']\n",
            "['1', '9', '8', '3', '4', '2', '5', '6', '7']\n",
            "['8', '5', '9', '7', '6', '1', '4', '2', '3']\n",
            "['4', '2', '6', '8', '5', '3', '7', '9', '1']\n",
            "['7', '1', '3', '9', '2', '4', '8', '5', '6']\n",
            "['9', '6', '1', '5', '3', '7', '2', '8', '4']\n",
            "['2', '8', '7', '4', '1', '9', '6', '3', '5']\n",
            "['3', '4', '5', '2', '8', '6', '1', '7', '9']\n"
          ]
        }
      ]
    },
    {
      "cell_type": "markdown",
      "source": [
        "**9. Given a memory block represented by an empty array, write a program to manage the dynamic allocation of that memory block. The program should support two methods: malloc() to allocate memory and free() to free a memory block.**\n",
        "\n",
        "To manage dynamic allocation of a memory block, we can implement a simple memory manager using a list to keep track of the allocated and free memory blocks.\n",
        "\n",
        "This program defines a MemoryManager class that can manage the allocation and deallocation of memory blocks:\n",
        "\n",
        "The constructor initializes the memory with a given size and creates a list of free memory blocks. Initially, the entire memory is free.\n",
        "\n",
        "The malloc method allocates a memory block of the requested size. It iterates through the free memory blocks and finds a suitable block to allocate. If it finds a block with sufficient size, it splits it if needed and returns the starting address of the allocated block. If there's no available block with enough size, an exception is raised.\n",
        "\n",
        "The free method deallocates a memory block by merging it with adjacent free blocks, if any. It takes the starting address and size of the block to be freed, and updates the list of free memory blocks accordingly."
      ],
      "metadata": {
        "id": "Q06ERR0AXsnR"
      }
    },
    {
      "cell_type": "code",
      "source": [
        "class MemoryManager:\n",
        "    def __init__(self, size):\n",
        "        self.memory = [None] * size\n",
        "        self.free_blocks = [(0, size)]\n",
        "\n",
        "    def malloc(self, size):\n",
        "        for idx, (start, length) in enumerate(self.free_blocks):\n",
        "            if length >= size:\n",
        "                self.free_blocks.pop(idx)\n",
        "\n",
        "                end = start + size\n",
        "                if length > size:\n",
        "                    self.free_blocks.insert(idx, (end, length - size))\n",
        "\n",
        "                return start\n",
        "\n",
        "        raise Exception(\"Not enough memory available.\")\n",
        "\n",
        "    def free(self, address, size):\n",
        "        idx = 0\n",
        "        while idx < len(self.free_blocks) and self.free_blocks[idx][0] < address:\n",
        "            idx += 1\n",
        "\n",
        "        prev_start, prev_length = self.free_blocks[idx - 1] if idx > 0 else (None, None)\n",
        "        next_start, next_length = self.free_blocks[idx] if idx < len(self.free_blocks) else (None, None)\n",
        "\n",
        "        if prev_start is not None and prev_start + prev_length == address:\n",
        "            address, size = prev_start, prev_length + size\n",
        "            if idx - 1 < len(self.free_blocks):\n",
        "                self.free_blocks.pop(idx - 1)\n",
        "\n",
        "        if next_start is not None and address + size == next_start:\n",
        "            address, size = address, size + next_length\n",
        "            if idx < len(self.free_blocks):\n",
        "                self.free_blocks.pop(idx)\n",
        "\n",
        "        self.free_blocks.insert(idx, (address, size))\n"
      ],
      "metadata": {
        "id": "B_GbGvNlXHPt"
      },
      "execution_count": 10,
      "outputs": []
    },
    {
      "cell_type": "code",
      "source": [
        "mem_manager = MemoryManager(100)\n",
        "\n",
        "address1 = mem_manager.malloc(10)\n",
        "print(\"Allocated 10 bytes at address:\", address1)\n",
        "\n",
        "address2 = mem_manager.malloc(20)\n",
        "print(\"Allocated 20 bytes at address:\", address2)\n",
        "\n",
        "mem_manager.free(address1, 10)\n",
        "print(\"Freed 10 bytes at address:\", address1)\n",
        "\n",
        "address3 = mem_manager.malloc(5)\n",
        "print(\"Allocated 5 bytes at address:\", address3)\n",
        "\n",
        "mem_manager.free(address2, 20)\n",
        "print(\"Freed 20 bytes at address:\", address2)\n",
        "\n",
        "mem_manager.free(address3, 5)\n",
        "print(\"Freed 5 bytes at address:\", address3)\n"
      ],
      "metadata": {
        "colab": {
          "base_uri": "https://localhost:8080/"
        },
        "id": "uRcS5SlTYQ4Z",
        "outputId": "8345279f-8e76-47fe-87b7-4b86a75d4f8e"
      },
      "execution_count": 11,
      "outputs": [
        {
          "output_type": "stream",
          "name": "stdout",
          "text": [
            "Allocated 10 bytes at address: 0\n",
            "Allocated 20 bytes at address: 10\n",
            "Freed 10 bytes at address: 0\n",
            "Allocated 5 bytes at address: 0\n",
            "Freed 20 bytes at address: 10\n",
            "Freed 5 bytes at address: 0\n"
          ]
        }
      ]
    },
    {
      "cell_type": "markdown",
      "source": [
        "**10. Given a string of mathematical expression, such as 10 * 4 + (4 + 3) / (2 - 1), calculate it. It should support four operators +, -, :, /, and the brackets ().**\n",
        "\n",
        "To evaluate a mathematical expression with support for the four operators (+, -, *, /) and brackets, you can use the Shunting Yard algorithm to convert the expression into Reverse Polish Notation (RPN) and then evaluate it.\n",
        "\n",
        "Here's a breakdown of the code steps:\n",
        "\n",
        "1. Define helper functions:\n",
        "\n",
        "precedence(op: str): Returns the precedence of the given operator.\n",
        "\n",
        "apply_operator(operators: list, values: list): Applies the most recent operator to the two most recent values and appends the result back to the values list.\n",
        "\n",
        "greater_precedence(op1: str, op2: str): Compares the precedence of two operators and returns True if the precedence of the first operator is greater than the second operator.\n",
        "\n",
        "2. Initialize two empty lists: operators for storing operators and values for storing operand values.\n",
        "\n",
        "3. Iterate through the input expression using the index variable i:\n",
        "\n",
        "If the current character is a space, skip it.\n",
        "\n",
        "If the current character is a digit, parse the whole number and append it to the values list.\n",
        "\n",
        "If the current character is an operator (+, -, *, /):\n",
        "While there are operators in the stack and the current operator has equal or lower precedence than the operator at the top of the stack, apply the top operator using apply_operator and pop it from the stack.\n",
        "\n",
        "Append the current operator to the operators list.\n",
        "\n",
        "If the current character is an opening bracket '(', append it to the operators list.\n",
        "\n",
        "If the current character is a closing bracket ')':\n",
        "\n",
        "Apply operators from the operators list using apply_operator until an opening bracket '(' is encountered. Then, remove the opening bracket from the operators list.\n",
        "\n",
        "4. After processing the entire expression, apply any remaining operators in the operators list using apply_operator.\n",
        "\n",
        "5. The result of the evaluated expression will be the only element in the values list, so return it as the output."
      ],
      "metadata": {
        "id": "etEbZyiOY1Wt"
      }
    },
    {
      "cell_type": "code",
      "source": [
        "def evaluate_expression(expression: str) -> float:\n",
        "    def precedence(op: str) -> int:\n",
        "        if op in ('+', '-'):\n",
        "            return 1\n",
        "        if op in ('*', '/'):\n",
        "            return 2\n",
        "        return 0\n",
        "\n",
        "    def apply_operator(operators: list, values: list):\n",
        "        operator = operators.pop()\n",
        "        right = values.pop()\n",
        "        left = values.pop()\n",
        "        if operator == '+':\n",
        "            values.append(left + right)\n",
        "        elif operator == '-':\n",
        "            values.append(left - right)\n",
        "        elif operator == '*':\n",
        "            values.append(left * right)\n",
        "        elif operator == '/':\n",
        "            values.append(left / right)\n",
        "\n",
        "    def greater_precedence(op1: str, op2: str) -> bool:\n",
        "        return precedence(op1) > precedence(op2)\n",
        "\n",
        "    operators = []\n",
        "    values = []\n",
        "    i = 0\n",
        "    while i < len(expression):\n",
        "        if expression[i] == ' ':\n",
        "            i += 1\n",
        "            continue\n",
        "\n",
        "        if expression[i] in '0123456789':\n",
        "            j = i\n",
        "            while j < len(expression) and expression[j] in '0123456789':\n",
        "                j += 1\n",
        "            values.append(int(expression[i:j]))\n",
        "            i = j\n",
        "        elif expression[i] in \"+-*/\":\n",
        "            while (\n",
        "                operators\n",
        "                and operators[-1] != '('\n",
        "                and not greater_precedence(expression[i], operators[-1])\n",
        "            ):\n",
        "                apply_operator(operators, values)\n",
        "            operators.append(expression[i])\n",
        "            i += 1\n",
        "        elif expression[i] == '(':\n",
        "            operators.append(expression[i])\n",
        "            i += 1\n",
        "        elif expression[i] == ')':\n",
        "            while operators[-1] != '(':\n",
        "                apply_operator(operators, values)\n",
        "            operators.pop()\n",
        "            i += 1\n",
        "\n",
        "    while operators:\n",
        "        apply_operator(operators, values)\n",
        "\n",
        "    return values[0]\n",
        "\n",
        "# Test the function\n",
        "expression = \"10 * 4 + (4 + 3) / (2 - 1)\"\n",
        "result = evaluate_expression(expression)\n",
        "print(f\"Result of the expression '{expression}' is: {result}\")\n"
      ],
      "metadata": {
        "colab": {
          "base_uri": "https://localhost:8080/"
        },
        "id": "r25TzoKCZZTs",
        "outputId": "dee39763-ba1b-459b-abc1-4e2700f1f78d"
      },
      "execution_count": 35,
      "outputs": [
        {
          "output_type": "stream",
          "name": "stdout",
          "text": [
            "Result of the expression '10 * 4 + (4 + 3) / (2 - 1)' is: 47.0\n"
          ]
        }
      ]
    },
    {
      "cell_type": "markdown",
      "source": [
        "**11. Given a directory path, descend into that directory and find all the files with duplicated content.**\n",
        "\n",
        "To find all the files with duplicated content in a given directory path, you can follow these steps:\n",
        "\n",
        "Use the os module to traverse the directory path and find all the files in it.\n",
        "\n",
        "For each file, calculate its hash using the hashlib module. MD5 or SHA-256 are good choices for this purpose.\n",
        "\n",
        "Keep track of the hash values and the corresponding file paths in a dictionary or list.\n",
        "\n",
        "Identify and return all the files that have the same hash value."
      ],
      "metadata": {
        "id": "V_0abPyNdBtR"
      }
    },
    {
      "cell_type": "code",
      "source": [
        "import os\n",
        "import hashlib\n",
        "\n",
        "def find_duplicate_files(dir_path):\n",
        "    # Step 1: Traverse the directory and find all files\n",
        "    file_hash_dict = {}\n",
        "    for root, dirs, files in os.walk(dir_path):\n",
        "        for filename in files:\n",
        "            file_path = os.path.join(root, filename)\n",
        "            # Step 2: Calculate the file's hash\n",
        "            with open(file_path, 'rb') as f:\n",
        "                file_hash = hashlib.md5(f.read()).hexdigest()  # or hashlib.sha256(f.read()).hexdigest()\n",
        "            # Step 3: Keep track of the hash values and file paths\n",
        "            if file_hash in file_hash_dict:\n",
        "                file_hash_dict[file_hash].append(file_path)\n",
        "            else:\n",
        "                file_hash_dict[file_hash] = [file_path]\n",
        "\n",
        "    # Step 4: Identify and return the duplicated files\n",
        "    return {k: v for k, v in file_hash_dict.items() if len(v) > 1}\n"
      ],
      "metadata": {
        "id": "jHy35cBVcWIt"
      },
      "execution_count": 36,
      "outputs": []
    },
    {
      "cell_type": "markdown",
      "source": [
        "**12. In Google Docs, you have the Justify alignment option that spaces your text to align with both left and right margins. Write a function to print out a given text line-by-line (except the last line) in Justify alignment format. The length of a line should be configurable.**\n",
        "\n",
        "The justify_align function takes two arguments: text, which is the text to be justified, and line_length, which is the desired length of each line. It first splits the text into individual words and constructs lines of text, each with a length no greater than line_length. It then applies justification to each line except the last one by adding extra spaces between words. The final output is printed line-by-line."
      ],
      "metadata": {
        "id": "uBdx6Sdvdary"
      }
    },
    {
      "cell_type": "code",
      "source": [
        "def justify_align(text, line_length):\n",
        "    words = text.split()\n",
        "    current_line = \"\"\n",
        "    lines = []\n",
        "\n",
        "    for word in words:\n",
        "        if len(current_line) + len(word) + 1 <= line_length:\n",
        "            current_line += word + \" \"\n",
        "        else:\n",
        "            lines.append(current_line.strip())\n",
        "            current_line = word + \" \"\n",
        "    \n",
        "    # Add the last line\n",
        "    lines.append(current_line.strip())\n",
        "\n",
        "    # Justify align each line except the last one\n",
        "    for line in lines[:-1]:\n",
        "        words = line.split()\n",
        "        spaces_needed = line_length - sum(len(word) for word in words)\n",
        "        num_gaps = len(words) - 1\n",
        "        if num_gaps > 0:\n",
        "            gap_size = spaces_needed // num_gaps\n",
        "            extra_spaces = spaces_needed % num_gaps\n",
        "            justified_line = \"\"\n",
        "            for i in range(len(words)):\n",
        "                if i == 0:\n",
        "                    justified_line += words[i]\n",
        "                else:\n",
        "                    spaces = \" \" * gap_size\n",
        "                    if i <= extra_spaces:\n",
        "                        spaces += \" \"\n",
        "                    justified_line += spaces + words[i]\n",
        "            print(justified_line)\n",
        "        else:\n",
        "            # Only one word in the line\n",
        "            print(line)\n",
        "\n",
        "    # Print the last line\n",
        "    print(lines[-1])\n"
      ],
      "metadata": {
        "id": "Tnwz_QP8du04"
      },
      "execution_count": 37,
      "outputs": []
    },
    {
      "cell_type": "code",
      "source": [
        "text = \"Lorem ipsum dolor sit amet, consectetur adipiscing elit. Sed auctor malesuada libero id aliquam. Nam congue sapien vel arcu iaculis dapibus. Ut rhoncus auctor enim sit amet volutpat. Donec ullamcorper vulputate tortor, id fringilla metus imperdiet a. Fusce sollicitudin erat eget ligula dapibus, at consectetur elit venenatis. Integer suscipit lacus id tellus euismod, id bibendum sapien volutpat. Donec ac mauris in ipsum vestibulum hendrerit.\"\n",
        "justify_align(text, 40)\n"
      ],
      "metadata": {
        "colab": {
          "base_uri": "https://localhost:8080/"
        },
        "id": "wn5N-U4FdwIc",
        "outputId": "50452794-247c-4b5a-d2b6-24fcec2274e0"
      },
      "execution_count": 38,
      "outputs": [
        {
          "output_type": "stream",
          "name": "stdout",
          "text": [
            "Lorem  ipsum dolor sit amet, consectetur\n",
            "adipiscing  elit.  Sed  auctor malesuada\n",
            "libero  id  aliquam.  Nam  congue sapien\n",
            "vel  arcu  iaculis  dapibus.  Ut rhoncus\n",
            "auctor  enim  sit  amet  volutpat. Donec\n",
            "ullamcorper    vulputate    tortor,   id\n",
            "fringilla   metus   imperdiet  a.  Fusce\n",
            "sollicitudin  erat  eget ligula dapibus,\n",
            "at  consectetur  elit venenatis. Integer\n",
            "suscipit  lacus  id  tellus  euismod, id\n",
            "bibendum   sapien   volutpat.  Donec  ac\n",
            "mauris in ipsum vestibulum hendrerit.\n"
          ]
        }
      ]
    },
    {
      "cell_type": "markdown",
      "source": [
        "**13. You have 1 million text files, each is a news article scraped from various news sites. Since news sites often report the same news, even the same articles, many of the files have content very similar to each other. Write a program to filter out these files so that the end result contains only files that are sufficiently different from each other in the language of your choice. You’re free to choose a metric to define the “similarity” of content between files.**\n",
        "\n",
        "To filter out similar files among a collection of 1 million text files, we can use a text similarity metric to compare the content of each pair of files. One commonly used text similarity metric is cosine similarity. Here's how we can use cosine similarity to filter out similar files:\n",
        "\n",
        "Preprocess the text in each file to remove stopwords, punctuation, and other noise. This can be done using techniques such as tokenization, stemming, and lemmatization.\n",
        "\n",
        "Calculate a vector representation of the text in each file using a method such as TF-IDF (term frequency-inverse document frequency) or Doc2Vec.\n",
        "\n",
        "Calculate the cosine similarity between each pair of files using their vector representations.\n",
        "\n",
        "Use a threshold value to determine which pairs of files are similar enough to be considered duplicates.\n",
        "\n",
        "Keep only one file from each set of duplicates.\n",
        "\n",
        "The filter_similar_files function takes two arguments: dir_path, which is the directory containing the text files, and similarity_threshold, which is the threshold value for cosine similarity below which two files are considered unique. It returns a list of file paths corresponding to the unique files."
      ],
      "metadata": {
        "id": "ETVAPR3md40-"
      }
    },
    {
      "cell_type": "code",
      "source": [
        "import os\n",
        "import gensim\n",
        "from gensim.utils import simple_preprocess\n",
        "from gensim.models import TfidfModel\n",
        "from gensim.corpora import Dictionary\n",
        "from sklearn.metrics.pairwise import cosine_similarity\n",
        "\n",
        "def preprocess_text(text):\n",
        "    return [token for token in simple_preprocess(text) if token not in gensim.parsing.preprocessing.STOPWORDS]\n",
        "\n",
        "def get_file_vectors(file_paths):\n",
        "    corpus = []\n",
        "    for file_path in file_paths:\n",
        "        with open(file_path, 'r') as f:\n",
        "            text = f.read()\n",
        "            corpus.append(preprocess_text(text))\n",
        "    dictionary = Dictionary(corpus)\n",
        "    bow_corpus = [dictionary.doc2bow(text) for text in corpus]\n",
        "    tfidf_model = TfidfModel(bow_corpus)\n",
        "    tfidf_corpus = tfidf_model[bow_corpus]\n",
        "    file_vectors = []\n",
        "    for i, tfidf_doc in enumerate(tfidf_corpus):\n",
        "        file_vector = []\n",
        "        for index, value in tfidf_doc:\n",
        "            file_vector.append(value)\n",
        "        file_vectors.append(file_vector)\n",
        "    return file_vectors\n",
        "\n",
        "def filter_similar_files(dir_path, similarity_threshold):\n",
        "    # Step 1: Traverse the directory and find all files\n",
        "    file_paths = []\n",
        "    for root, dirs, files in os.walk(dir_path):\n",
        "        for filename in files:\n",
        "            file_path = os.path.join(root, filename)\n",
        "            file_paths.append(file_path)\n",
        "\n",
        "    # Step 2: Get vector representation for each file\n",
        "    file_vectors = get_file_vectors(file_paths)\n",
        "\n",
        "    # Step 3: Calculate cosine similarity for each pair of files\n",
        "    similar_files = set()\n",
        "    num_files = len(file_paths)\n",
        "    for i in range(num_files):\n",
        "        for j in range(i+1, num_files):\n",
        "            cosine_sim = cosine_similarity([file_vectors[i]], [file_vectors[j]])[0][0]\n",
        "            if cosine_sim >= similarity_threshold:\n",
        "                similar_files.add(file_paths[i])\n",
        "                similar_files.add(file_paths[j])\n",
        "\n",
        "    # Step 4: Filter out similar files\n",
        "    unique_files = set(file_paths) - similar_files\n",
        "\n",
        "    # Step 5: Return list of unique files\n",
        "    return list(unique_files)\n"
      ],
      "metadata": {
        "id": "ucDOPp2rdyF2"
      },
      "execution_count": 39,
      "outputs": []
    },
    {
      "cell_type": "code",
      "source": [],
      "metadata": {
        "id": "m2yADytkeK2H"
      },
      "execution_count": null,
      "outputs": []
    }
  ]
}